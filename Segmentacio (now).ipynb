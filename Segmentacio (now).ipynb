{
 "cells": [
  {
   "cell_type": "code",
   "execution_count": 9,
   "metadata": {},
   "outputs": [],
   "source": [
    "import matplotlib.pyplot as plt\n",
    "import matplotlib.image as mpimg\n",
    "import numpy as np\n",
    "import cv2\n",
    "import os\n",
    "import pandas as pd\n",
    "import csv\n",
    "\n",
    "Datos=[]\n",
    "Encabezado=\"Nombre de la Imagen,X,Y,W,H\\n\"\n",
    "Datos.append(Encabezado)\n",
    "\n",
    "\n",
    "\n",
    "direcciones= 'C:\\\\Users\\\\geske\\\\Documents\\\\Vision computacional\\\\vision_programas-master\\\\IMAGENES_MANZANAS_SD'\n",
    "ListaCarpetas=os.listdir(direcciones)\n",
    "\n",
    "for fichero in ListaCarpetas:\n",
    "    List1=os.listdir(os.path.join(direcciones,fichero))  \n",
    "    for fi2 in List1:\n",
    "        List2=os.listdir(os.path.join(direcciones,fichero,fi2))\n",
    "        for fi3 in List2: \n",
    "            img_color=cv2.imread(os.path.join(direcciones, fichero,fi2, fi3))\n",
    "            b,g,r = cv2.split(img_color)\n",
    "            img_filtrada=cv2.GaussianBlur(b,(7,7),5)\n",
    "            ret3, inverse_mask = cv2.threshold(img_filtrada,0,255,cv2.THRESH_BINARY+cv2.THRESH_OTSU)\n",
    "            mask = cv2.bitwise_not(inverse_mask)  \n",
    "            kernel = np.ones((7,7),np.uint8)\n",
    "            mask_morph = cv2.morphologyEx(mask, cv2.MORPH_CLOSE, kernel)\n",
    "            kernel2 = np.ones((7,7),np.uint8)\n",
    "            mask_morph2 = cv2.morphologyEx(mask_morph, cv2.MORPH_OPEN, kernel2,)\n",
    "            char='mask_'+fi3+'.png'\n",
    "            actual=os.getcwd()\n",
    "            os.chdir(os.path.join(actual,'IMAGENES_MANZANAS_SD',fichero,fi2))\n",
    "            cv2.imwrite(char,mask_morph2)\n",
    "            contorno,jerarquia=cv2.findContours(mask_morph,cv2.RETR_EXTERNAL,cv2.CHAIN_APPROX_SIMPLE)\n",
    "            areas = [cv2.contourArea(c) for c in contorno]\n",
    "            max_index = np.argmax(areas)\n",
    "            cnt=contorno[max_index]\n",
    "            x,y,w,h=cv2.boundingRect(cnt)\n",
    "            crop_img = img_color[y:y+h, x:x+w,:]\n",
    "            char2='Recorte'+fi3+'.png'\n",
    "            cv2.imwrite(char2,crop_img)\n",
    "            os.chdir(actual)\n",
    "            DatoOb=\"\\\\\"+str(fichero)+\"\\\\\"+str(fi2)+\"\\\\\"+str(fi3)+\",\"+str(x)+\",\"+str(y)+\",\"+str(w)+\",\"+str(h)+\"\\n\"\n",
    "            Datos.append(DatoOb)\n",
    "file=open(\"ManzaNaData.csv\",\"w\")\n",
    "file.writelines(Datos) \n",
    "file.close()"
   ]
  },
  {
   "cell_type": "code",
   "execution_count": 4,
   "metadata": {},
   "outputs": [
    {
     "data": {
      "text/plain": [
       "True"
      ]
     },
     "execution_count": 4,
     "metadata": {},
     "output_type": "execute_result"
    }
   ],
   "source": [
    "import cv2\n",
    "img_color=cv2.imread('C:\\\\Users\\\\geske\\\\Documents\\\\Vision computacional\\\\vision_programas-master\\\\IMAGENES_MANZANAS_SD\\\\test\\\\Gala_d\\\\ManzanaV_2009.jpg')\n",
    "b,g,r = cv2.split(img_color)\n",
    "g_filtrada=cv2.GaussianBlur(b,(7,7),5)\n",
    "cv2.imwrite(\"imageGauss.png\",g_filtrada)\n",
    "ret3, inverse_mask = cv2.threshold(g_filtrada,0,255,cv2.THRESH_BINARY+cv2.THRESH_OTSU)\n",
    "mask = cv2.bitwise_not(inverse_mask)  \n",
    "cv2.imwrite(\"OtsuUmb.png\",mask)\n"
   ]
  },
  {
   "cell_type": "code",
   "execution_count": 5,
   "metadata": {},
   "outputs": [
    {
     "data": {
      "text/plain": [
       "True"
      ]
     },
     "execution_count": 5,
     "metadata": {},
     "output_type": "execute_result"
    }
   ],
   "source": [
    "import numpy as np\n",
    "kernel = np.ones((7,7),np.uint8)\n",
    "mask_morph = cv2.morphologyEx(mask, cv2.MORPH_CLOSE, kernel)\n",
    "kernel2 = np.ones((7,7),np.uint8)\n",
    "mask_morph2 = cv2.morphologyEx(mask_morph, cv2.MORPH_OPEN, kernel2,)\n",
    "cv2.imwrite(\"OperMorf.png\",mask_morph2)"
   ]
  },
  {
   "cell_type": "code",
   "execution_count": 8,
   "metadata": {},
   "outputs": [
    {
     "name": "stdout",
     "output_type": "stream",
     "text": [
      "Se encontraron 2 regiones.\n",
      "Etiqueta: 0 (fondo)\n",
      "Etiqueta: 1\n"
     ]
    },
    {
     "data": {
      "text/plain": [
       "-1"
      ]
     },
     "execution_count": 8,
     "metadata": {},
     "output_type": "execute_result"
    }
   ],
   "source": [
    "from skimage import measure \n",
    "labels = measure.label(mask_morph, connectivity=2, background=0)\n",
    "mask = np.zeros(mask_morph2.shape, dtype='uint8')\n",
    "print(f'Se encontraron {len(np.unique(labels))} regiones.')\n",
    "\n",
    "# Ciclamos sobre cada etiqueta.\n",
    "for i, label in enumerate(np.unique(labels)):\n",
    "    if label == 0:\n",
    "        print('Etiqueta: 0 (fondo)')\n",
    "        continue\n",
    "\n",
    "    # Construimos una máscara para mostrar sólo las componentes conectadas de la etiqueta actual.\n",
    "    print(f'Etiqueta: {i}')\n",
    "    label_mask = np.zeros(mask_morph2.shape, dtype='uint8')\n",
    "    label_mask[labels == label] = 255\n",
    "    num_pixels = cv2.countNonZero(label_mask)\n",
    "\n",
    "    # Si el número de píxeles en la componente es suficientemente larga, probablemente sea una región de interés,\n",
    "    # por lo que la agregamos a nuestra máscara final.\n",
    "    if 300 < num_pixels < 1500:\n",
    "        mask = cv2.add(mask, label_mask)\n",
    "    \n",
    "        # Mostramos la máscara de *esta* etiqueta.\n",
    "    cv2.imshow('Etiqueta', label_mask)\n",
    "    cv2.waitKey(0)\n",
    "\n",
    "# Mostramos las componentes más grandes (es decir, regiones de interés).\n",
    "cv2.imshow('Regiones de interés', mask)\n",
    "cv2.waitKey(0)\n"
   ]
  },
  {
   "cell_type": "code",
   "execution_count": null,
   "metadata": {},
   "outputs": [],
   "source": []
  }
 ],
 "metadata": {
  "kernelspec": {
   "display_name": "MiEntorno",
   "language": "python",
   "name": "mientorno"
  },
  "language_info": {
   "codemirror_mode": {
    "name": "ipython",
    "version": 3
   },
   "file_extension": ".py",
   "mimetype": "text/x-python",
   "name": "python",
   "nbconvert_exporter": "python",
   "pygments_lexer": "ipython3",
   "version": "3.6.10"
  }
 },
 "nbformat": 4,
 "nbformat_minor": 4
}
